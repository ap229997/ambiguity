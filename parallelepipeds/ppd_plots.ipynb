{
 "cells": [
  {
   "cell_type": "code",
   "execution_count": 11,
   "id": "84fc805b",
   "metadata": {},
   "outputs": [],
   "source": [
    "import os\n",
    "import numpy as np\n",
    "import matplotlib.pyplot as plt\n",
    "from scipy import stats"
   ]
  },
  {
   "cell_type": "code",
   "execution_count": 17,
   "id": "ce6c274e",
   "metadata": {},
   "outputs": [
    {
     "name": "stdout",
     "output_type": "stream",
     "text": [
      "_absolute_f192\n",
      "_relative_f192\n"
     ]
    },
    {
     "data": {
      "text/plain": [
       "<Figure size 480x480 with 0 Axes>"
      ]
     },
     "metadata": {},
     "output_type": "display_data"
    }
   ],
   "source": [
    "save_dir = './output'\n",
    "os.makedirs(f'{save_dir}/plots', exist_ok=True)\n",
    "for output_type in ['absolute', 'relative']:\n",
    "    for focal_length in [192]:\n",
    "        lr = '0.01' if output_type == 'absolute' else '0.001'\n",
    "        suffix = f'_{output_type}_f{focal_length}'\n",
    "        \n",
    "        baseline_train_metric = np.load(f'{save_dir}/baseline_train_metric_lr{lr}{suffix}.npy')\n",
    "        baseline_val_metric = np.load(f'{save_dir}/baseline_val_metric_lr{lr}{suffix}.npy')\n",
    "        ours_train_metric = np.load(f'{save_dir}/ours_train_metric_lr{lr}{suffix}.npy')\n",
    "        ours_val_metric = np.load(f'{save_dir}/ours_val_metric_lr{lr}{suffix}.npy')\n",
    "        \n",
    "        plt.plot(baseline_train_metric[:, 0], baseline_train_metric[:, 1],  label='Centered (train)', color='tab:blue')\n",
    "        plt.plot(baseline_val_metric[:, 0], baseline_val_metric[:, 1], linestyle='dashed', label='Centered (val)', color='tab:blue')\n",
    "        plt.plot(ours_train_metric[:, 0], ours_train_metric[:, 1], label='Absolute (train)', color='tab:orange')\n",
    "        plt.plot(ours_val_metric[:, 0], ours_val_metric[:, 1], linestyle='dashed', label='Absolute (val)', color='tab:orange')\n",
    "        plt.legend(prop={'size': 14})\n",
    "        plt.ylabel('Mean Euclidean Distance', fontsize=15)\n",
    "        plt.xlabel('Iterations', fontsize=15)\n",
    "        if output_type == 'absolute':\n",
    "            plt.title('Absolute 3D Shape', fontsize=17)\n",
    "        else:\n",
    "            plt.title('Root Relative 3D Shape', fontsize=17)\n",
    "        fig = plt.gcf()\n",
    "        fig.set_size_inches(4.8, 4.8)\n",
    "        plt.savefig(f'{save_dir}/plots/plot{suffix}.pdf', bbox_inches='tight')\n",
    "        plt.clf()\n",
    "        \n",
    "        print(suffix)"
   ]
  },
  {
   "cell_type": "code",
   "execution_count": null,
   "id": "c5cfab6b",
   "metadata": {},
   "outputs": [],
   "source": []
  }
 ],
 "metadata": {
  "kernelspec": {
   "display_name": "amb",
   "language": "python",
   "name": "python3"
  },
  "language_info": {
   "codemirror_mode": {
    "name": "ipython",
    "version": 3
   },
   "file_extension": ".py",
   "mimetype": "text/x-python",
   "name": "python",
   "nbconvert_exporter": "python",
   "pygments_lexer": "ipython3",
   "version": "3.8.19"
  },
  "vscode": {
   "interpreter": {
    "hash": "e643b039cbf6e7013296a165dc83c5512758a1b555d8558fdb4cbecb996b7a9d"
   }
  }
 },
 "nbformat": 4,
 "nbformat_minor": 5
}
